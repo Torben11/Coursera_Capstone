{
    "cells": [
        {
            "cell_type": "markdown",
            "metadata": {
                "collapsed": true
            },
            "source": "# Peer-graded Assignment: Segmenting and Clustering Neighborhoods in Toronto"
        },
        {
            "cell_type": "markdown",
            "metadata": {},
            "source": "# First Part"
        },
        {
            "cell_type": "code",
            "execution_count": 3,
            "metadata": {},
            "outputs": [],
            "source": "import numpy as np\nimport pandas as pd\nimport requests"
        },
        {
            "cell_type": "markdown",
            "metadata": {},
            "source": "## Separating the DataSet labels in columns :"
        },
        {
            "cell_type": "code",
            "execution_count": 5,
            "metadata": {
                "scrolled": true
            },
            "outputs": [],
            "source": "url = 'https://en.wikipedia.org/w/index.php?title=List_of_postal_codes_of_Canada:_M&oldid=947772202'\ndataset = pd.read_html(url,  attrs={'rules': 'all'})\ndf = dataset[0]\nlist_names_of_borough = ['Scarborough','North York','East York','East Toronto','Central Toronto','Downtown Toronto','York','West Toronto','Etobicoke',\"Queen's Park\"]\n\n\nfor a,b in enumerate(df):\n    for i,j in enumerate(df[a]):\n        latter = 0\n        storage = df[a][i]\n        df[a][i] = ''\n        #print(i,\"Round\")\n        if 'Not assigned' in storage:\n            df.drop(index = [a,i])\n            continue # skips a iteration\n        df[a][i] = storage[0:3] + ',' \n        if list_names_of_borough[a] in storage:\n            for let in list_names_of_borough[a]:\n                latter += 1\n            first = storage.find(list_names_of_borough[a])\n            \n        else:\n            for element in list_names_of_borough:\n                if element in storage:\n                    for let in element:\n                        latter += 1\n                    first = storage.find(element)\n                    break\n        latter += 3\n        df[a][i] = df[a][i] + storage[first:latter] + ','\n        df[a][i] = df[a][i] + storage[latter + 1:]   "
        },
        {
            "cell_type": "markdown",
            "metadata": {},
            "source": "## Cleaning the DataSet"
        },
        {
            "cell_type": "code",
            "execution_count": 6,
            "metadata": {},
            "outputs": [],
            "source": "table = str.maketrans(dict.fromkeys(\"()\"))    \ndic = {}\nfor a,b in enumerate(df):\n    for i,j in enumerate(df[a]):\n        df[a][i] = df[a][i].translate(table)\n        df[a][i] = df[a][i].split(',')        \n        if len(df[a][i]) != 0:\n            dic[df[a][i][0]] = df[a][i][1:]\n\n            \ndic.pop('', [])\ndic['M5B'] = ['Downtown Toronto' ,'Garden District / Ryerson']\nlist_of_index = []\nlist_of_borough = []\nlist_of_neigh = []\nfor key in dic:\n    list_of_index.append(key)\n    list_of_borough.append(dic[key][0])\n    list_of_neigh.append(dic[key][1])\n    "
        },
        {
            "cell_type": "markdown",
            "metadata": {},
            "source": "## Creating a DataFrame"
        },
        {
            "cell_type": "code",
            "execution_count": 7,
            "metadata": {},
            "outputs": [
                {
                    "data": {
                        "text/html": "<div>\n<style scoped>\n    .dataframe tbody tr th:only-of-type {\n        vertical-align: middle;\n    }\n\n    .dataframe tbody tr th {\n        vertical-align: top;\n    }\n\n    .dataframe thead th {\n        text-align: right;\n    }\n</style>\n<table border=\"1\" class=\"dataframe\">\n  <thead>\n    <tr style=\"text-align: right;\">\n      <th></th>\n      <th>Postal Code</th>\n      <th>Borough</th>\n      <th>Neighborhood</th>\n    </tr>\n  </thead>\n  <tbody>\n    <tr>\n      <th>0</th>\n      <td>M1B</td>\n      <td>Scarborough</td>\n      <td>Malvern / Rouge</td>\n    </tr>\n    <tr>\n      <th>1</th>\n      <td>M1C</td>\n      <td>Scarborough</td>\n      <td>Rouge Hill / Port Union / Highland Creek</td>\n    </tr>\n    <tr>\n      <th>2</th>\n      <td>M1E</td>\n      <td>Scarborough</td>\n      <td>Guildwood / Morningside / West Hill</td>\n    </tr>\n    <tr>\n      <th>3</th>\n      <td>M1G</td>\n      <td>Scarborough</td>\n      <td>Woburn</td>\n    </tr>\n    <tr>\n      <th>4</th>\n      <td>M1H</td>\n      <td>Scarborough</td>\n      <td>Cedarbrae</td>\n    </tr>\n  </tbody>\n</table>\n</div>",
                        "text/plain": "  Postal Code      Borough                              Neighborhood\n0         M1B  Scarborough                           Malvern / Rouge\n1         M1C  Scarborough  Rouge Hill / Port Union / Highland Creek\n2         M1E  Scarborough       Guildwood / Morningside / West Hill\n3         M1G  Scarborough                                    Woburn\n4         M1H  Scarborough                                 Cedarbrae"
                    },
                    "execution_count": 7,
                    "metadata": {},
                    "output_type": "execute_result"
                }
            ],
            "source": "real_df = pd.DataFrame(data = {'Postal Code' : list_of_index,'Borough':list_of_borough,'Neighborhood':list_of_neigh})\nreal_df.head()"
        },
        {
            "cell_type": "code",
            "execution_count": 8,
            "metadata": {},
            "outputs": [
                {
                    "data": {
                        "text/html": "<div>\n<style scoped>\n    .dataframe tbody tr th:only-of-type {\n        vertical-align: middle;\n    }\n\n    .dataframe tbody tr th {\n        vertical-align: top;\n    }\n\n    .dataframe thead th {\n        text-align: right;\n    }\n</style>\n<table border=\"1\" class=\"dataframe\">\n  <thead>\n    <tr style=\"text-align: right;\">\n      <th></th>\n      <th>Postal Code</th>\n      <th>Borough</th>\n      <th>Neighborhood</th>\n    </tr>\n  </thead>\n  <tbody>\n    <tr>\n      <th>98</th>\n      <td>M9N</td>\n      <td>York</td>\n      <td>Weston</td>\n    </tr>\n    <tr>\n      <th>99</th>\n      <td>M9P</td>\n      <td>Etobicoke</td>\n      <td>Westmount</td>\n    </tr>\n    <tr>\n      <th>100</th>\n      <td>M9R</td>\n      <td>Etobicoke</td>\n      <td>Kingsview Village / St. Phillips / Martin Grov...</td>\n    </tr>\n    <tr>\n      <th>101</th>\n      <td>M9V</td>\n      <td>Etobicoke</td>\n      <td>South Steeles / Silverstone / Humbergate / Jam...</td>\n    </tr>\n    <tr>\n      <th>102</th>\n      <td>M9W</td>\n      <td>Etobicoke</td>\n      <td>orthwestClairville / Humberwood / Woodbine Dow...</td>\n    </tr>\n  </tbody>\n</table>\n</div>",
                        "text/plain": "    Postal Code    Borough                                       Neighborhood\n98          M9N       York                                             Weston\n99          M9P  Etobicoke                                          Westmount\n100         M9R  Etobicoke  Kingsview Village / St. Phillips / Martin Grov...\n101         M9V  Etobicoke  South Steeles / Silverstone / Humbergate / Jam...\n102         M9W  Etobicoke  orthwestClairville / Humberwood / Woodbine Dow..."
                    },
                    "execution_count": 8,
                    "metadata": {},
                    "output_type": "execute_result"
                }
            ],
            "source": "real_df.tail()"
        },
        {
            "cell_type": "code",
            "execution_count": 9,
            "metadata": {},
            "outputs": [
                {
                    "data": {
                        "text/plain": "(103, 3)"
                    },
                    "execution_count": 9,
                    "metadata": {},
                    "output_type": "execute_result"
                }
            ],
            "source": "real_df.shape"
        },
        {
            "cell_type": "markdown",
            "metadata": {},
            "source": "# Second Part"
        },
        {
            "cell_type": "code",
            "execution_count": 10,
            "metadata": {},
            "outputs": [
                {
                    "data": {
                        "text/html": "<div>\n<style scoped>\n    .dataframe tbody tr th:only-of-type {\n        vertical-align: middle;\n    }\n\n    .dataframe tbody tr th {\n        vertical-align: top;\n    }\n\n    .dataframe thead th {\n        text-align: right;\n    }\n</style>\n<table border=\"1\" class=\"dataframe\">\n  <thead>\n    <tr style=\"text-align: right;\">\n      <th></th>\n      <th>Postal Code</th>\n      <th>Latitude</th>\n      <th>Longitude</th>\n    </tr>\n  </thead>\n  <tbody>\n    <tr>\n      <th>0</th>\n      <td>M1B</td>\n      <td>43.806686</td>\n      <td>-79.194353</td>\n    </tr>\n    <tr>\n      <th>1</th>\n      <td>M1C</td>\n      <td>43.784535</td>\n      <td>-79.160497</td>\n    </tr>\n    <tr>\n      <th>2</th>\n      <td>M1E</td>\n      <td>43.763573</td>\n      <td>-79.188711</td>\n    </tr>\n    <tr>\n      <th>3</th>\n      <td>M1G</td>\n      <td>43.770992</td>\n      <td>-79.216917</td>\n    </tr>\n    <tr>\n      <th>4</th>\n      <td>M1H</td>\n      <td>43.773136</td>\n      <td>-79.239476</td>\n    </tr>\n  </tbody>\n</table>\n</div>",
                        "text/plain": "  Postal Code   Latitude  Longitude\n0         M1B  43.806686 -79.194353\n1         M1C  43.784535 -79.160497\n2         M1E  43.763573 -79.188711\n3         M1G  43.770992 -79.216917\n4         M1H  43.773136 -79.239476"
                    },
                    "execution_count": 10,
                    "metadata": {},
                    "output_type": "execute_result"
                }
            ],
            "source": "url = 'https://cocl.us/Geospatial_data'\ndf = pd.read_csv(url)\ndf.head()"
        },
        {
            "cell_type": "code",
            "execution_count": 11,
            "metadata": {},
            "outputs": [],
            "source": "# Checking if both columns are equal\nfor index,postal in enumerate(df.iloc[0:,0]):\n    if real_df.iloc[index,0] != postal:\n        print(real_df.iloc[index,0],' != ',postal)\n# joining the datasets and merging the postal code column\nreal_df = real_df.join(df.iloc[0:,1:])\n"
        },
        {
            "cell_type": "code",
            "execution_count": 12,
            "metadata": {},
            "outputs": [
                {
                    "data": {
                        "text/html": "<div>\n<style scoped>\n    .dataframe tbody tr th:only-of-type {\n        vertical-align: middle;\n    }\n\n    .dataframe tbody tr th {\n        vertical-align: top;\n    }\n\n    .dataframe thead th {\n        text-align: right;\n    }\n</style>\n<table border=\"1\" class=\"dataframe\">\n  <thead>\n    <tr style=\"text-align: right;\">\n      <th></th>\n      <th>Postal Code</th>\n      <th>Borough</th>\n      <th>Neighborhood</th>\n      <th>Latitude</th>\n      <th>Longitude</th>\n    </tr>\n  </thead>\n  <tbody>\n    <tr>\n      <th>0</th>\n      <td>M1B</td>\n      <td>Scarborough</td>\n      <td>Malvern / Rouge</td>\n      <td>43.806686</td>\n      <td>-79.194353</td>\n    </tr>\n    <tr>\n      <th>1</th>\n      <td>M1C</td>\n      <td>Scarborough</td>\n      <td>Rouge Hill / Port Union / Highland Creek</td>\n      <td>43.784535</td>\n      <td>-79.160497</td>\n    </tr>\n    <tr>\n      <th>2</th>\n      <td>M1E</td>\n      <td>Scarborough</td>\n      <td>Guildwood / Morningside / West Hill</td>\n      <td>43.763573</td>\n      <td>-79.188711</td>\n    </tr>\n    <tr>\n      <th>3</th>\n      <td>M1G</td>\n      <td>Scarborough</td>\n      <td>Woburn</td>\n      <td>43.770992</td>\n      <td>-79.216917</td>\n    </tr>\n    <tr>\n      <th>4</th>\n      <td>M1H</td>\n      <td>Scarborough</td>\n      <td>Cedarbrae</td>\n      <td>43.773136</td>\n      <td>-79.239476</td>\n    </tr>\n  </tbody>\n</table>\n</div>",
                        "text/plain": "  Postal Code      Borough                              Neighborhood  \\\n0         M1B  Scarborough                           Malvern / Rouge   \n1         M1C  Scarborough  Rouge Hill / Port Union / Highland Creek   \n2         M1E  Scarborough       Guildwood / Morningside / West Hill   \n3         M1G  Scarborough                                    Woburn   \n4         M1H  Scarborough                                 Cedarbrae   \n\n    Latitude  Longitude  \n0  43.806686 -79.194353  \n1  43.784535 -79.160497  \n2  43.763573 -79.188711  \n3  43.770992 -79.216917  \n4  43.773136 -79.239476  "
                    },
                    "execution_count": 12,
                    "metadata": {},
                    "output_type": "execute_result"
                }
            ],
            "source": "real_df.head()"
        },
        {
            "cell_type": "code",
            "execution_count": 13,
            "metadata": {},
            "outputs": [
                {
                    "data": {
                        "text/html": "<div>\n<style scoped>\n    .dataframe tbody tr th:only-of-type {\n        vertical-align: middle;\n    }\n\n    .dataframe tbody tr th {\n        vertical-align: top;\n    }\n\n    .dataframe thead th {\n        text-align: right;\n    }\n</style>\n<table border=\"1\" class=\"dataframe\">\n  <thead>\n    <tr style=\"text-align: right;\">\n      <th></th>\n      <th>Postal Code</th>\n      <th>Borough</th>\n      <th>Neighborhood</th>\n      <th>Latitude</th>\n      <th>Longitude</th>\n    </tr>\n  </thead>\n  <tbody>\n    <tr>\n      <th>98</th>\n      <td>M9N</td>\n      <td>York</td>\n      <td>Weston</td>\n      <td>43.706876</td>\n      <td>-79.518188</td>\n    </tr>\n    <tr>\n      <th>99</th>\n      <td>M9P</td>\n      <td>Etobicoke</td>\n      <td>Westmount</td>\n      <td>43.696319</td>\n      <td>-79.532242</td>\n    </tr>\n    <tr>\n      <th>100</th>\n      <td>M9R</td>\n      <td>Etobicoke</td>\n      <td>Kingsview Village / St. Phillips / Martin Grov...</td>\n      <td>43.688905</td>\n      <td>-79.554724</td>\n    </tr>\n    <tr>\n      <th>101</th>\n      <td>M9V</td>\n      <td>Etobicoke</td>\n      <td>South Steeles / Silverstone / Humbergate / Jam...</td>\n      <td>43.739416</td>\n      <td>-79.588437</td>\n    </tr>\n    <tr>\n      <th>102</th>\n      <td>M9W</td>\n      <td>Etobicoke</td>\n      <td>orthwestClairville / Humberwood / Woodbine Dow...</td>\n      <td>43.706748</td>\n      <td>-79.594054</td>\n    </tr>\n  </tbody>\n</table>\n</div>",
                        "text/plain": "    Postal Code    Borough                                       Neighborhood  \\\n98          M9N       York                                             Weston   \n99          M9P  Etobicoke                                          Westmount   \n100         M9R  Etobicoke  Kingsview Village / St. Phillips / Martin Grov...   \n101         M9V  Etobicoke  South Steeles / Silverstone / Humbergate / Jam...   \n102         M9W  Etobicoke  orthwestClairville / Humberwood / Woodbine Dow...   \n\n      Latitude  Longitude  \n98   43.706876 -79.518188  \n99   43.696319 -79.532242  \n100  43.688905 -79.554724  \n101  43.739416 -79.588437  \n102  43.706748 -79.594054  "
                    },
                    "execution_count": 13,
                    "metadata": {},
                    "output_type": "execute_result"
                }
            ],
            "source": "real_df.tail()"
        },
        {
            "cell_type": "markdown",
            "metadata": {},
            "source": "# Third Part"
        },
        {
            "cell_type": "code",
            "execution_count": 33,
            "metadata": {},
            "outputs": [
                {
                    "data": {
                        "text/plain": "array([3, 3, 3, 3, 3, 3, 3, 1, 3, 1, 3, 3, 3, 3, 3, 3, 3, 0, 0, 0, 0, 0,\n       0, 0, 0, 1, 1, 1, 0, 0, 0, 2, 2, 2, 1, 1, 1, 1, 1, 1, 1, 1, 1, 1,\n       0, 0, 0, 1, 1, 1, 1, 1, 1, 1, 1, 1, 1, 1, 1, 1, 1, 1, 0, 0, 1, 1,\n       1, 1, 1, 1, 1, 0, 0, 1, 1, 1, 1, 1, 1, 2, 2, 2, 1, 1, 2, 1, 2, 1,\n       2, 2, 2, 2, 2, 2, 2, 2, 2, 2, 2, 2, 2, 2, 2], dtype=int32)"
                    },
                    "execution_count": 33,
                    "metadata": {},
                    "output_type": "execute_result"
                }
            ],
            "source": "from sklearn.cluster import KMeans\nkmeans = KMeans(n_clusters= 4, random_state=0).fit(real_df.drop(['Neighborhood','Borough','Postal Code'], 1))\nkmeans.labels_"
        },
        {
            "cell_type": "code",
            "execution_count": 34,
            "metadata": {},
            "outputs": [
                {
                    "data": {
                        "text/html": "<div>\n<style scoped>\n    .dataframe tbody tr th:only-of-type {\n        vertical-align: middle;\n    }\n\n    .dataframe tbody tr th {\n        vertical-align: top;\n    }\n\n    .dataframe thead th {\n        text-align: right;\n    }\n</style>\n<table border=\"1\" class=\"dataframe\">\n  <thead>\n    <tr style=\"text-align: right;\">\n      <th></th>\n      <th>Postal Code</th>\n      <th>Borough</th>\n      <th>Neighborhood</th>\n      <th>Latitude</th>\n      <th>Longitude</th>\n      <th>Clusters</th>\n    </tr>\n  </thead>\n  <tbody>\n    <tr>\n      <th>0</th>\n      <td>M1B</td>\n      <td>Scarborough</td>\n      <td>Malvern / Rouge</td>\n      <td>43.806686</td>\n      <td>-79.194353</td>\n      <td>3</td>\n    </tr>\n    <tr>\n      <th>1</th>\n      <td>M1C</td>\n      <td>Scarborough</td>\n      <td>Rouge Hill / Port Union / Highland Creek</td>\n      <td>43.784535</td>\n      <td>-79.160497</td>\n      <td>3</td>\n    </tr>\n    <tr>\n      <th>2</th>\n      <td>M1E</td>\n      <td>Scarborough</td>\n      <td>Guildwood / Morningside / West Hill</td>\n      <td>43.763573</td>\n      <td>-79.188711</td>\n      <td>3</td>\n    </tr>\n    <tr>\n      <th>3</th>\n      <td>M1G</td>\n      <td>Scarborough</td>\n      <td>Woburn</td>\n      <td>43.770992</td>\n      <td>-79.216917</td>\n      <td>3</td>\n    </tr>\n    <tr>\n      <th>4</th>\n      <td>M1H</td>\n      <td>Scarborough</td>\n      <td>Cedarbrae</td>\n      <td>43.773136</td>\n      <td>-79.239476</td>\n      <td>3</td>\n    </tr>\n  </tbody>\n</table>\n</div>",
                        "text/plain": "  Postal Code      Borough                              Neighborhood  \\\n0         M1B  Scarborough                           Malvern / Rouge   \n1         M1C  Scarborough  Rouge Hill / Port Union / Highland Creek   \n2         M1E  Scarborough       Guildwood / Morningside / West Hill   \n3         M1G  Scarborough                                    Woburn   \n4         M1H  Scarborough                                 Cedarbrae   \n\n    Latitude  Longitude  Clusters  \n0  43.806686 -79.194353         3  \n1  43.784535 -79.160497         3  \n2  43.763573 -79.188711         3  \n3  43.770992 -79.216917         3  \n4  43.773136 -79.239476         3  "
                    },
                    "execution_count": 34,
                    "metadata": {},
                    "output_type": "execute_result"
                }
            ],
            "source": "cluster_df = real_df\ncluster_df['Clusters'] = kmeans.labels_\ncluster_df.head()"
        },
        {
            "cell_type": "markdown",
            "metadata": {},
            "source": "## Clusters"
        },
        {
            "cell_type": "code",
            "execution_count": 48,
            "metadata": {},
            "outputs": [
                {
                    "data": {
                        "text/html": "<div>\n<style scoped>\n    .dataframe tbody tr th:only-of-type {\n        vertical-align: middle;\n    }\n\n    .dataframe tbody tr th {\n        vertical-align: top;\n    }\n\n    .dataframe thead th {\n        text-align: right;\n    }\n</style>\n<table border=\"1\" class=\"dataframe\">\n  <thead>\n    <tr style=\"text-align: right;\">\n      <th></th>\n      <th>Postal Code</th>\n      <th>Borough</th>\n      <th>Neighborhood</th>\n      <th>Longitude</th>\n      <th>Clusters</th>\n    </tr>\n  </thead>\n  <tbody>\n    <tr>\n      <th>17</th>\n      <td>M2H</td>\n      <td>North York</td>\n      <td>Hillcrest Village</td>\n      <td>-79.363452</td>\n      <td>0</td>\n    </tr>\n    <tr>\n      <th>18</th>\n      <td>M2J</td>\n      <td>North York</td>\n      <td>Fairview / Henry Farm / Oriole</td>\n      <td>-79.346556</td>\n      <td>0</td>\n    </tr>\n    <tr>\n      <th>19</th>\n      <td>M2K</td>\n      <td>North York</td>\n      <td>Bayview Village</td>\n      <td>-79.385975</td>\n      <td>0</td>\n    </tr>\n    <tr>\n      <th>20</th>\n      <td>M2L</td>\n      <td>North York</td>\n      <td>York Mills / Silver Hills</td>\n      <td>-79.374714</td>\n      <td>0</td>\n    </tr>\n    <tr>\n      <th>21</th>\n      <td>M2M</td>\n      <td>North York</td>\n      <td>Willowdale / Newtonbrook</td>\n      <td>-79.408493</td>\n      <td>0</td>\n    </tr>\n    <tr>\n      <th>22</th>\n      <td>M2N</td>\n      <td>North York</td>\n      <td>WillowdaleSouth</td>\n      <td>-79.408493</td>\n      <td>0</td>\n    </tr>\n    <tr>\n      <th>23</th>\n      <td>M2P</td>\n      <td>North York</td>\n      <td>York Mills West</td>\n      <td>-79.400049</td>\n      <td>0</td>\n    </tr>\n    <tr>\n      <th>24</th>\n      <td>M2R</td>\n      <td>North York</td>\n      <td>WillowdaleWest</td>\n      <td>-79.442259</td>\n      <td>0</td>\n    </tr>\n    <tr>\n      <th>28</th>\n      <td>M3H</td>\n      <td>North York</td>\n      <td>Bathurst Manor / Wilson Heights / Downsview North</td>\n      <td>-79.442259</td>\n      <td>0</td>\n    </tr>\n    <tr>\n      <th>29</th>\n      <td>M3J</td>\n      <td>North York</td>\n      <td>Northwood Park / York University</td>\n      <td>-79.487262</td>\n      <td>0</td>\n    </tr>\n    <tr>\n      <th>30</th>\n      <td>M3K</td>\n      <td>North York</td>\n      <td>DownsviewEast CFB Toronto</td>\n      <td>-79.464763</td>\n      <td>0</td>\n    </tr>\n    <tr>\n      <th>44</th>\n      <td>M4N</td>\n      <td>Central Toronto</td>\n      <td>Lawrence Park</td>\n      <td>-79.388790</td>\n      <td>0</td>\n    </tr>\n    <tr>\n      <th>45</th>\n      <td>M4P</td>\n      <td>Central Toronto</td>\n      <td>Davisville North</td>\n      <td>-79.390197</td>\n      <td>0</td>\n    </tr>\n    <tr>\n      <th>46</th>\n      <td>M4R</td>\n      <td>Central Toronto</td>\n      <td>North Toronto West</td>\n      <td>-79.405678</td>\n      <td>0</td>\n    </tr>\n    <tr>\n      <th>62</th>\n      <td>M5M</td>\n      <td>North York</td>\n      <td>Bedford Park / Lawrence Manor East</td>\n      <td>-79.419750</td>\n      <td>0</td>\n    </tr>\n    <tr>\n      <th>63</th>\n      <td>M5N</td>\n      <td>Central Toronto</td>\n      <td>Roselawn</td>\n      <td>-79.416936</td>\n      <td>0</td>\n    </tr>\n    <tr>\n      <th>71</th>\n      <td>M6A</td>\n      <td>North York</td>\n      <td>Lawrence Manor / Lawrence Heights</td>\n      <td>-79.464763</td>\n      <td>0</td>\n    </tr>\n    <tr>\n      <th>72</th>\n      <td>M6B</td>\n      <td>North York</td>\n      <td>Glencairn</td>\n      <td>-79.445073</td>\n      <td>0</td>\n    </tr>\n  </tbody>\n</table>\n</div>",
                        "text/plain": "   Postal Code          Borough  \\\n17         M2H       North York   \n18         M2J       North York   \n19         M2K       North York   \n20         M2L       North York   \n21         M2M       North York   \n22         M2N       North York   \n23         M2P       North York   \n24         M2R       North York   \n28         M3H       North York   \n29         M3J       North York   \n30         M3K       North York   \n44         M4N  Central Toronto   \n45         M4P  Central Toronto   \n46         M4R  Central Toronto   \n62         M5M       North York   \n63         M5N  Central Toronto   \n71         M6A       North York   \n72         M6B       North York   \n\n                                         Neighborhood  Longitude  Clusters  \n17                                  Hillcrest Village -79.363452         0  \n18                     Fairview / Henry Farm / Oriole -79.346556         0  \n19                                    Bayview Village -79.385975         0  \n20                          York Mills / Silver Hills -79.374714         0  \n21                           Willowdale / Newtonbrook -79.408493         0  \n22                                    WillowdaleSouth -79.408493         0  \n23                                    York Mills West -79.400049         0  \n24                                     WillowdaleWest -79.442259         0  \n28  Bathurst Manor / Wilson Heights / Downsview North -79.442259         0  \n29                   Northwood Park / York University -79.487262         0  \n30                          DownsviewEast CFB Toronto -79.464763         0  \n44                                      Lawrence Park -79.388790         0  \n45                                   Davisville North -79.390197         0  \n46                                 North Toronto West -79.405678         0  \n62                 Bedford Park / Lawrence Manor East -79.419750         0  \n63                                           Roselawn -79.416936         0  \n71                  Lawrence Manor / Lawrence Heights -79.464763         0  \n72                                          Glencairn -79.445073         0  "
                    },
                    "execution_count": 48,
                    "metadata": {},
                    "output_type": "execute_result"
                }
            ],
            "source": "# First Cluster\ncluster_df.loc[cluster_df['Clusters'] == 0, cluster_df.columns[[0,1,2] + list(range(4, cluster_df.shape[1]))]]"
        },
        {
            "cell_type": "code",
            "execution_count": 49,
            "metadata": {},
            "outputs": [
                {
                    "data": {
                        "text/html": "<div>\n<style scoped>\n    .dataframe tbody tr th:only-of-type {\n        vertical-align: middle;\n    }\n\n    .dataframe tbody tr th {\n        vertical-align: top;\n    }\n\n    .dataframe thead th {\n        text-align: right;\n    }\n</style>\n<table border=\"1\" class=\"dataframe\">\n  <thead>\n    <tr style=\"text-align: right;\">\n      <th></th>\n      <th>Postal Code</th>\n      <th>Borough</th>\n      <th>Neighborhood</th>\n      <th>Longitude</th>\n      <th>Clusters</th>\n    </tr>\n  </thead>\n  <tbody>\n    <tr>\n      <th>7</th>\n      <td>M1L</td>\n      <td>Scarborough</td>\n      <td>Golden Mile / Clairlea / Oakridge</td>\n      <td>-79.284577</td>\n      <td>1</td>\n    </tr>\n    <tr>\n      <th>9</th>\n      <td>M1N</td>\n      <td>Scarborough</td>\n      <td>Birch Cliff / Cliffside West</td>\n      <td>-79.264848</td>\n      <td>1</td>\n    </tr>\n    <tr>\n      <th>25</th>\n      <td>M3A</td>\n      <td>North York</td>\n      <td>Parkwoods</td>\n      <td>-79.329656</td>\n      <td>1</td>\n    </tr>\n    <tr>\n      <th>26</th>\n      <td>M3B</td>\n      <td>North York</td>\n      <td>Don MillsNorth</td>\n      <td>-79.352188</td>\n      <td>1</td>\n    </tr>\n    <tr>\n      <th>27</th>\n      <td>M3C</td>\n      <td>North York</td>\n      <td>Don MillsSouthFlemingdon Park</td>\n      <td>-79.340923</td>\n      <td>1</td>\n    </tr>\n    <tr>\n      <th>34</th>\n      <td>M4A</td>\n      <td>North York</td>\n      <td>Victoria Village</td>\n      <td>-79.315572</td>\n      <td>1</td>\n    </tr>\n    <tr>\n      <th>35</th>\n      <td>M4B</td>\n      <td>East York</td>\n      <td>Parkview Hill / Woodbine Gardens</td>\n      <td>-79.309937</td>\n      <td>1</td>\n    </tr>\n    <tr>\n      <th>36</th>\n      <td>M4C</td>\n      <td>East York</td>\n      <td>Woodbine Heights</td>\n      <td>-79.318389</td>\n      <td>1</td>\n    </tr>\n    <tr>\n      <th>37</th>\n      <td>M4E</td>\n      <td>East Toronto</td>\n      <td>The Beaches</td>\n      <td>-79.293031</td>\n      <td>1</td>\n    </tr>\n    <tr>\n      <th>38</th>\n      <td>M4G</td>\n      <td>East York</td>\n      <td>Leaside</td>\n      <td>-79.363452</td>\n      <td>1</td>\n    </tr>\n    <tr>\n      <th>39</th>\n      <td>M4H</td>\n      <td>East York</td>\n      <td>Thorncliffe Park</td>\n      <td>-79.349372</td>\n      <td>1</td>\n    </tr>\n    <tr>\n      <th>40</th>\n      <td>M4J</td>\n      <td>Eas</td>\n      <td>TorontoThe Danforth East</td>\n      <td>-79.338106</td>\n      <td>1</td>\n    </tr>\n    <tr>\n      <th>41</th>\n      <td>M4K</td>\n      <td>East Toronto</td>\n      <td>The Danforth West / Riverdale</td>\n      <td>-79.352188</td>\n      <td>1</td>\n    </tr>\n    <tr>\n      <th>42</th>\n      <td>M4L</td>\n      <td>East Toronto</td>\n      <td>India Bazaar / The Beaches West</td>\n      <td>-79.315572</td>\n      <td>1</td>\n    </tr>\n    <tr>\n      <th>43</th>\n      <td>M4M</td>\n      <td>East Toronto</td>\n      <td>Studio District</td>\n      <td>-79.340923</td>\n      <td>1</td>\n    </tr>\n    <tr>\n      <th>47</th>\n      <td>M4S</td>\n      <td>Central Toronto</td>\n      <td>Davisville</td>\n      <td>-79.388790</td>\n      <td>1</td>\n    </tr>\n    <tr>\n      <th>48</th>\n      <td>M4T</td>\n      <td>Central Toronto</td>\n      <td>Moore Park / Summerhill East</td>\n      <td>-79.383160</td>\n      <td>1</td>\n    </tr>\n    <tr>\n      <th>49</th>\n      <td>M4V</td>\n      <td>Central Toronto</td>\n      <td>Summerhill West / Rathnelly / South Hill / For...</td>\n      <td>-79.400049</td>\n      <td>1</td>\n    </tr>\n    <tr>\n      <th>50</th>\n      <td>M4W</td>\n      <td>Downtown Toronto</td>\n      <td>Rosedale</td>\n      <td>-79.377529</td>\n      <td>1</td>\n    </tr>\n    <tr>\n      <th>51</th>\n      <td>M4X</td>\n      <td>Downtown Toronto</td>\n      <td>St. James Town / Cabbagetown</td>\n      <td>-79.367675</td>\n      <td>1</td>\n    </tr>\n    <tr>\n      <th>52</th>\n      <td>M4Y</td>\n      <td>Downtown Toronto</td>\n      <td>Church and Wellesley</td>\n      <td>-79.383160</td>\n      <td>1</td>\n    </tr>\n    <tr>\n      <th>53</th>\n      <td>M5A</td>\n      <td>Downtown Toronto</td>\n      <td>Regent Park / Harbourfront</td>\n      <td>-79.360636</td>\n      <td>1</td>\n    </tr>\n    <tr>\n      <th>54</th>\n      <td>M5B</td>\n      <td>Downtown Toronto</td>\n      <td>Garden District / Ryerson</td>\n      <td>-79.378937</td>\n      <td>1</td>\n    </tr>\n    <tr>\n      <th>55</th>\n      <td>M5C</td>\n      <td>Downtown Toronto</td>\n      <td>St. James Town</td>\n      <td>-79.375418</td>\n      <td>1</td>\n    </tr>\n    <tr>\n      <th>56</th>\n      <td>M5E</td>\n      <td>Downtown Toronto</td>\n      <td>Berczy Park</td>\n      <td>-79.373306</td>\n      <td>1</td>\n    </tr>\n    <tr>\n      <th>57</th>\n      <td>M5G</td>\n      <td>Downtown Toronto</td>\n      <td>Central Bay Street</td>\n      <td>-79.387383</td>\n      <td>1</td>\n    </tr>\n    <tr>\n      <th>58</th>\n      <td>M5H</td>\n      <td>Downtown Toronto</td>\n      <td>Richmond / Adelaide / King</td>\n      <td>-79.384568</td>\n      <td>1</td>\n    </tr>\n    <tr>\n      <th>59</th>\n      <td>M5J</td>\n      <td>Downtown Toronto</td>\n      <td>Harbourfront East / Union Station / Toronto Is...</td>\n      <td>-79.381752</td>\n      <td>1</td>\n    </tr>\n    <tr>\n      <th>60</th>\n      <td>M5K</td>\n      <td>Downtown Toronto</td>\n      <td>Toronto Dominion Centre / Design Exchange</td>\n      <td>-79.381576</td>\n      <td>1</td>\n    </tr>\n    <tr>\n      <th>61</th>\n      <td>M5L</td>\n      <td>Downtown Toronto</td>\n      <td>Commerce Court / Victoria Hotel</td>\n      <td>-79.379817</td>\n      <td>1</td>\n    </tr>\n    <tr>\n      <th>64</th>\n      <td>M5P</td>\n      <td>Central Toronto</td>\n      <td>Forest Hill North &amp; West</td>\n      <td>-79.411307</td>\n      <td>1</td>\n    </tr>\n    <tr>\n      <th>65</th>\n      <td>M5R</td>\n      <td>Central Toronto</td>\n      <td>The Annex / North Midtown / Yorkville</td>\n      <td>-79.405678</td>\n      <td>1</td>\n    </tr>\n    <tr>\n      <th>66</th>\n      <td>M5S</td>\n      <td>Downtown Toronto</td>\n      <td>University of Toronto / Harbord</td>\n      <td>-79.400049</td>\n      <td>1</td>\n    </tr>\n    <tr>\n      <th>67</th>\n      <td>M5T</td>\n      <td>Downtown Toronto</td>\n      <td>Kensington Market / Chinatown / Grange Park</td>\n      <td>-79.400049</td>\n      <td>1</td>\n    </tr>\n    <tr>\n      <th>68</th>\n      <td>M5V</td>\n      <td>Downtown Toronto</td>\n      <td>CN Tower / King and Spadina / Railway Lands / ...</td>\n      <td>-79.394420</td>\n      <td>1</td>\n    </tr>\n    <tr>\n      <th>69</th>\n      <td>M5W</td>\n      <td>Downtown Toronto</td>\n      <td>tn A PO Boxes25 The EsplanadeEnclave of M5E</td>\n      <td>-79.374846</td>\n      <td>1</td>\n    </tr>\n    <tr>\n      <th>70</th>\n      <td>M5X</td>\n      <td>Downtown Toronto</td>\n      <td>First Canadian Place / Underground city</td>\n      <td>-79.382280</td>\n      <td>1</td>\n    </tr>\n    <tr>\n      <th>73</th>\n      <td>M6C</td>\n      <td>York</td>\n      <td>Humewood-Cedarvale</td>\n      <td>-79.428191</td>\n      <td>1</td>\n    </tr>\n    <tr>\n      <th>74</th>\n      <td>M6E</td>\n      <td>York</td>\n      <td>Caledonia-Fairbanks</td>\n      <td>-79.453512</td>\n      <td>1</td>\n    </tr>\n    <tr>\n      <th>75</th>\n      <td>M6G</td>\n      <td>Downtown Toronto</td>\n      <td>Christie</td>\n      <td>-79.422564</td>\n      <td>1</td>\n    </tr>\n    <tr>\n      <th>76</th>\n      <td>M6H</td>\n      <td>West Toronto</td>\n      <td>Dufferin / Dovercourt Village</td>\n      <td>-79.442259</td>\n      <td>1</td>\n    </tr>\n    <tr>\n      <th>77</th>\n      <td>M6J</td>\n      <td>West Toronto</td>\n      <td>Little Portugal / Trinity</td>\n      <td>-79.419750</td>\n      <td>1</td>\n    </tr>\n    <tr>\n      <th>78</th>\n      <td>M6K</td>\n      <td>West Toronto</td>\n      <td>Brockton / Parkdale Village / Exhibition Place</td>\n      <td>-79.428191</td>\n      <td>1</td>\n    </tr>\n    <tr>\n      <th>82</th>\n      <td>M6P</td>\n      <td>West Toronto</td>\n      <td>High Park / The Junction South</td>\n      <td>-79.464763</td>\n      <td>1</td>\n    </tr>\n    <tr>\n      <th>83</th>\n      <td>M6R</td>\n      <td>West Toronto</td>\n      <td>Parkdale / Roncesvalles</td>\n      <td>-79.456325</td>\n      <td>1</td>\n    </tr>\n    <tr>\n      <th>85</th>\n      <td>M7A</td>\n      <td>Downtown Toronto</td>\n      <td>Queen's Park / Ontario Provincial Government</td>\n      <td>-79.389494</td>\n      <td>1</td>\n    </tr>\n    <tr>\n      <th>87</th>\n      <td>M7Y</td>\n      <td>East Toronto</td>\n      <td>usiness reply mail Processing Centre969 Easter...</td>\n      <td>-79.321558</td>\n      <td>1</td>\n    </tr>\n  </tbody>\n</table>\n</div>",
                        "text/plain": "   Postal Code           Borough  \\\n7          M1L       Scarborough   \n9          M1N       Scarborough   \n25         M3A        North York   \n26         M3B        North York   \n27         M3C        North York   \n34         M4A        North York   \n35         M4B         East York   \n36         M4C         East York   \n37         M4E      East Toronto   \n38         M4G         East York   \n39         M4H         East York   \n40         M4J               Eas   \n41         M4K      East Toronto   \n42         M4L      East Toronto   \n43         M4M      East Toronto   \n47         M4S   Central Toronto   \n48         M4T   Central Toronto   \n49         M4V   Central Toronto   \n50         M4W  Downtown Toronto   \n51         M4X  Downtown Toronto   \n52         M4Y  Downtown Toronto   \n53         M5A  Downtown Toronto   \n54         M5B  Downtown Toronto   \n55         M5C  Downtown Toronto   \n56         M5E  Downtown Toronto   \n57         M5G  Downtown Toronto   \n58         M5H  Downtown Toronto   \n59         M5J  Downtown Toronto   \n60         M5K  Downtown Toronto   \n61         M5L  Downtown Toronto   \n64         M5P   Central Toronto   \n65         M5R   Central Toronto   \n66         M5S  Downtown Toronto   \n67         M5T  Downtown Toronto   \n68         M5V  Downtown Toronto   \n69         M5W  Downtown Toronto   \n70         M5X  Downtown Toronto   \n73         M6C              York   \n74         M6E              York   \n75         M6G  Downtown Toronto   \n76         M6H      West Toronto   \n77         M6J      West Toronto   \n78         M6K      West Toronto   \n82         M6P      West Toronto   \n83         M6R      West Toronto   \n85         M7A  Downtown Toronto   \n87         M7Y      East Toronto   \n\n                                         Neighborhood  Longitude  Clusters  \n7                   Golden Mile / Clairlea / Oakridge -79.284577         1  \n9                        Birch Cliff / Cliffside West -79.264848         1  \n25                                          Parkwoods -79.329656         1  \n26                                     Don MillsNorth -79.352188         1  \n27                      Don MillsSouthFlemingdon Park -79.340923         1  \n34                                   Victoria Village -79.315572         1  \n35                   Parkview Hill / Woodbine Gardens -79.309937         1  \n36                                   Woodbine Heights -79.318389         1  \n37                                        The Beaches -79.293031         1  \n38                                            Leaside -79.363452         1  \n39                                   Thorncliffe Park -79.349372         1  \n40                           TorontoThe Danforth East -79.338106         1  \n41                      The Danforth West / Riverdale -79.352188         1  \n42                    India Bazaar / The Beaches West -79.315572         1  \n43                                    Studio District -79.340923         1  \n47                                         Davisville -79.388790         1  \n48                       Moore Park / Summerhill East -79.383160         1  \n49  Summerhill West / Rathnelly / South Hill / For... -79.400049         1  \n50                                           Rosedale -79.377529         1  \n51                       St. James Town / Cabbagetown -79.367675         1  \n52                               Church and Wellesley -79.383160         1  \n53                         Regent Park / Harbourfront -79.360636         1  \n54                          Garden District / Ryerson -79.378937         1  \n55                                     St. James Town -79.375418         1  \n56                                        Berczy Park -79.373306         1  \n57                                 Central Bay Street -79.387383         1  \n58                         Richmond / Adelaide / King -79.384568         1  \n59  Harbourfront East / Union Station / Toronto Is... -79.381752         1  \n60          Toronto Dominion Centre / Design Exchange -79.381576         1  \n61                    Commerce Court / Victoria Hotel -79.379817         1  \n64                           Forest Hill North & West -79.411307         1  \n65              The Annex / North Midtown / Yorkville -79.405678         1  \n66                    University of Toronto / Harbord -79.400049         1  \n67        Kensington Market / Chinatown / Grange Park -79.400049         1  \n68  CN Tower / King and Spadina / Railway Lands / ... -79.394420         1  \n69        tn A PO Boxes25 The EsplanadeEnclave of M5E -79.374846         1  \n70            First Canadian Place / Underground city -79.382280         1  \n73                                 Humewood-Cedarvale -79.428191         1  \n74                                Caledonia-Fairbanks -79.453512         1  \n75                                           Christie -79.422564         1  \n76                      Dufferin / Dovercourt Village -79.442259         1  \n77                          Little Portugal / Trinity -79.419750         1  \n78     Brockton / Parkdale Village / Exhibition Place -79.428191         1  \n82                     High Park / The Junction South -79.464763         1  \n83                            Parkdale / Roncesvalles -79.456325         1  \n85       Queen's Park / Ontario Provincial Government -79.389494         1  \n87  usiness reply mail Processing Centre969 Easter... -79.321558         1  "
                    },
                    "execution_count": 49,
                    "metadata": {},
                    "output_type": "execute_result"
                }
            ],
            "source": "# Second Cluster\ncluster_df.loc[cluster_df['Clusters'] == 1, cluster_df.columns[[0,1,2] + list(range(4, cluster_df.shape[1]))]]"
        },
        {
            "cell_type": "code",
            "execution_count": 50,
            "metadata": {},
            "outputs": [
                {
                    "data": {
                        "text/html": "<div>\n<style scoped>\n    .dataframe tbody tr th:only-of-type {\n        vertical-align: middle;\n    }\n\n    .dataframe tbody tr th {\n        vertical-align: top;\n    }\n\n    .dataframe thead th {\n        text-align: right;\n    }\n</style>\n<table border=\"1\" class=\"dataframe\">\n  <thead>\n    <tr style=\"text-align: right;\">\n      <th></th>\n      <th>Postal Code</th>\n      <th>Borough</th>\n      <th>Neighborhood</th>\n      <th>Longitude</th>\n      <th>Clusters</th>\n    </tr>\n  </thead>\n  <tbody>\n    <tr>\n      <th>31</th>\n      <td>M3L</td>\n      <td>North York</td>\n      <td>DownsviewWest</td>\n      <td>-79.506944</td>\n      <td>2</td>\n    </tr>\n    <tr>\n      <th>32</th>\n      <td>M3M</td>\n      <td>North York</td>\n      <td>DownsviewCentral</td>\n      <td>-79.495697</td>\n      <td>2</td>\n    </tr>\n    <tr>\n      <th>33</th>\n      <td>M3N</td>\n      <td>North York</td>\n      <td>DownsviewNorthwest</td>\n      <td>-79.520999</td>\n      <td>2</td>\n    </tr>\n    <tr>\n      <th>79</th>\n      <td>M6L</td>\n      <td>North York</td>\n      <td>North Park / Maple Leaf Park / Upwood Park</td>\n      <td>-79.490074</td>\n      <td>2</td>\n    </tr>\n    <tr>\n      <th>80</th>\n      <td>M6M</td>\n      <td>York</td>\n      <td>Del Ray / Mount Dennis / Keelsdale and Silvert...</td>\n      <td>-79.476013</td>\n      <td>2</td>\n    </tr>\n    <tr>\n      <th>81</th>\n      <td>M6N</td>\n      <td>York</td>\n      <td>Runnymede / The Junction North</td>\n      <td>-79.487262</td>\n      <td>2</td>\n    </tr>\n    <tr>\n      <th>84</th>\n      <td>M6S</td>\n      <td>West Toronto</td>\n      <td>Runnymede / Swansea</td>\n      <td>-79.484450</td>\n      <td>2</td>\n    </tr>\n    <tr>\n      <th>86</th>\n      <td>M7R</td>\n      <td></td>\n      <td>ississaugaCanada Post Gateway Processing Centr...</td>\n      <td>-79.615819</td>\n      <td>2</td>\n    </tr>\n    <tr>\n      <th>88</th>\n      <td>M8V</td>\n      <td>Etobicoke</td>\n      <td>New Toronto / Mimico South / Humber Bay Shores</td>\n      <td>-79.501321</td>\n      <td>2</td>\n    </tr>\n    <tr>\n      <th>89</th>\n      <td>M8W</td>\n      <td>Etobicoke</td>\n      <td>Alderwood / Long Branch</td>\n      <td>-79.543484</td>\n      <td>2</td>\n    </tr>\n    <tr>\n      <th>90</th>\n      <td>M8X</td>\n      <td>Etobicoke</td>\n      <td>The Kingsway / Montgomery Road / Old Mill North</td>\n      <td>-79.506944</td>\n      <td>2</td>\n    </tr>\n    <tr>\n      <th>91</th>\n      <td>M8Y</td>\n      <td></td>\n      <td>cokeOld Mill South / King's Mill Park / Sunnyl...</td>\n      <td>-79.498509</td>\n      <td>2</td>\n    </tr>\n    <tr>\n      <th>92</th>\n      <td>M8Z</td>\n      <td></td>\n      <td>cokeMimico NW / The Queensway West / South of ...</td>\n      <td>-79.520999</td>\n      <td>2</td>\n    </tr>\n    <tr>\n      <th>93</th>\n      <td>M9A</td>\n      <td>Etobicoke</td>\n      <td>Islington Avenue</td>\n      <td>-79.532242</td>\n      <td>2</td>\n    </tr>\n    <tr>\n      <th>94</th>\n      <td>M9B</td>\n      <td>Etobicoke</td>\n      <td>West Deane Park / Princess Gardens / Martin Gr...</td>\n      <td>-79.554724</td>\n      <td>2</td>\n    </tr>\n    <tr>\n      <th>95</th>\n      <td>M9C</td>\n      <td>Etobicoke</td>\n      <td>Eringate / Bloordale Gardens / Old Burnhamthor...</td>\n      <td>-79.577201</td>\n      <td>2</td>\n    </tr>\n    <tr>\n      <th>96</th>\n      <td>M9L</td>\n      <td>North York</td>\n      <td>Humber Summit</td>\n      <td>-79.565963</td>\n      <td>2</td>\n    </tr>\n    <tr>\n      <th>97</th>\n      <td>M9M</td>\n      <td>North York</td>\n      <td>Humberlea / Emery</td>\n      <td>-79.532242</td>\n      <td>2</td>\n    </tr>\n    <tr>\n      <th>98</th>\n      <td>M9N</td>\n      <td>York</td>\n      <td>Weston</td>\n      <td>-79.518188</td>\n      <td>2</td>\n    </tr>\n    <tr>\n      <th>99</th>\n      <td>M9P</td>\n      <td>Etobicoke</td>\n      <td>Westmount</td>\n      <td>-79.532242</td>\n      <td>2</td>\n    </tr>\n    <tr>\n      <th>100</th>\n      <td>M9R</td>\n      <td>Etobicoke</td>\n      <td>Kingsview Village / St. Phillips / Martin Grov...</td>\n      <td>-79.554724</td>\n      <td>2</td>\n    </tr>\n    <tr>\n      <th>101</th>\n      <td>M9V</td>\n      <td>Etobicoke</td>\n      <td>South Steeles / Silverstone / Humbergate / Jam...</td>\n      <td>-79.588437</td>\n      <td>2</td>\n    </tr>\n    <tr>\n      <th>102</th>\n      <td>M9W</td>\n      <td>Etobicoke</td>\n      <td>orthwestClairville / Humberwood / Woodbine Dow...</td>\n      <td>-79.594054</td>\n      <td>2</td>\n    </tr>\n  </tbody>\n</table>\n</div>",
                        "text/plain": "    Postal Code       Borough  \\\n31          M3L    North York   \n32          M3M    North York   \n33          M3N    North York   \n79          M6L    North York   \n80          M6M          York   \n81          M6N          York   \n84          M6S  West Toronto   \n86          M7R                 \n88          M8V     Etobicoke   \n89          M8W     Etobicoke   \n90          M8X     Etobicoke   \n91          M8Y                 \n92          M8Z                 \n93          M9A     Etobicoke   \n94          M9B     Etobicoke   \n95          M9C     Etobicoke   \n96          M9L    North York   \n97          M9M    North York   \n98          M9N          York   \n99          M9P     Etobicoke   \n100         M9R     Etobicoke   \n101         M9V     Etobicoke   \n102         M9W     Etobicoke   \n\n                                          Neighborhood  Longitude  Clusters  \n31                                       DownsviewWest -79.506944         2  \n32                                    DownsviewCentral -79.495697         2  \n33                                  DownsviewNorthwest -79.520999         2  \n79          North Park / Maple Leaf Park / Upwood Park -79.490074         2  \n80   Del Ray / Mount Dennis / Keelsdale and Silvert... -79.476013         2  \n81                      Runnymede / The Junction North -79.487262         2  \n84                                 Runnymede / Swansea -79.484450         2  \n86   ississaugaCanada Post Gateway Processing Centr... -79.615819         2  \n88      New Toronto / Mimico South / Humber Bay Shores -79.501321         2  \n89                             Alderwood / Long Branch -79.543484         2  \n90     The Kingsway / Montgomery Road / Old Mill North -79.506944         2  \n91   cokeOld Mill South / King's Mill Park / Sunnyl... -79.498509         2  \n92   cokeMimico NW / The Queensway West / South of ... -79.520999         2  \n93                                    Islington Avenue -79.532242         2  \n94   West Deane Park / Princess Gardens / Martin Gr... -79.554724         2  \n95   Eringate / Bloordale Gardens / Old Burnhamthor... -79.577201         2  \n96                                       Humber Summit -79.565963         2  \n97                                   Humberlea / Emery -79.532242         2  \n98                                              Weston -79.518188         2  \n99                                           Westmount -79.532242         2  \n100  Kingsview Village / St. Phillips / Martin Grov... -79.554724         2  \n101  South Steeles / Silverstone / Humbergate / Jam... -79.588437         2  \n102  orthwestClairville / Humberwood / Woodbine Dow... -79.594054         2  "
                    },
                    "execution_count": 50,
                    "metadata": {},
                    "output_type": "execute_result"
                }
            ],
            "source": "# Third Cluster\ncluster_df.loc[cluster_df['Clusters'] == 2, cluster_df.columns[[0,1,2] + list(range(4, cluster_df.shape[1]))]]"
        },
        {
            "cell_type": "code",
            "execution_count": 51,
            "metadata": {},
            "outputs": [
                {
                    "data": {
                        "text/html": "<div>\n<style scoped>\n    .dataframe tbody tr th:only-of-type {\n        vertical-align: middle;\n    }\n\n    .dataframe tbody tr th {\n        vertical-align: top;\n    }\n\n    .dataframe thead th {\n        text-align: right;\n    }\n</style>\n<table border=\"1\" class=\"dataframe\">\n  <thead>\n    <tr style=\"text-align: right;\">\n      <th></th>\n      <th>Postal Code</th>\n      <th>Borough</th>\n      <th>Neighborhood</th>\n      <th>Longitude</th>\n      <th>Clusters</th>\n    </tr>\n  </thead>\n  <tbody>\n    <tr>\n      <th>0</th>\n      <td>M1B</td>\n      <td>Scarborough</td>\n      <td>Malvern / Rouge</td>\n      <td>-79.194353</td>\n      <td>3</td>\n    </tr>\n    <tr>\n      <th>1</th>\n      <td>M1C</td>\n      <td>Scarborough</td>\n      <td>Rouge Hill / Port Union / Highland Creek</td>\n      <td>-79.160497</td>\n      <td>3</td>\n    </tr>\n    <tr>\n      <th>2</th>\n      <td>M1E</td>\n      <td>Scarborough</td>\n      <td>Guildwood / Morningside / West Hill</td>\n      <td>-79.188711</td>\n      <td>3</td>\n    </tr>\n    <tr>\n      <th>3</th>\n      <td>M1G</td>\n      <td>Scarborough</td>\n      <td>Woburn</td>\n      <td>-79.216917</td>\n      <td>3</td>\n    </tr>\n    <tr>\n      <th>4</th>\n      <td>M1H</td>\n      <td>Scarborough</td>\n      <td>Cedarbrae</td>\n      <td>-79.239476</td>\n      <td>3</td>\n    </tr>\n    <tr>\n      <th>5</th>\n      <td>M1J</td>\n      <td>Scarborough</td>\n      <td>Scarborough Village</td>\n      <td>-79.239476</td>\n      <td>3</td>\n    </tr>\n    <tr>\n      <th>6</th>\n      <td>M1K</td>\n      <td>Scarborough</td>\n      <td>Kennedy Park / Ionview / East Birchmount Park</td>\n      <td>-79.262029</td>\n      <td>3</td>\n    </tr>\n    <tr>\n      <th>8</th>\n      <td>M1M</td>\n      <td>Scarborough</td>\n      <td>Cliffside / Cliffcrest / Scarborough Village West</td>\n      <td>-79.239476</td>\n      <td>3</td>\n    </tr>\n    <tr>\n      <th>10</th>\n      <td>M1P</td>\n      <td>Scarborough</td>\n      <td>Dorset Park / Wexford Heights / Scarborough To...</td>\n      <td>-79.273304</td>\n      <td>3</td>\n    </tr>\n    <tr>\n      <th>11</th>\n      <td>M1R</td>\n      <td>Scarborough</td>\n      <td>Wexford / Maryvale</td>\n      <td>-79.295849</td>\n      <td>3</td>\n    </tr>\n    <tr>\n      <th>12</th>\n      <td>M1S</td>\n      <td>Scarborough</td>\n      <td>Agincourt</td>\n      <td>-79.262029</td>\n      <td>3</td>\n    </tr>\n    <tr>\n      <th>13</th>\n      <td>M1T</td>\n      <td>Scarborough</td>\n      <td>Clarks Corners / Tam O'Shanter / Sullivan</td>\n      <td>-79.304302</td>\n      <td>3</td>\n    </tr>\n    <tr>\n      <th>14</th>\n      <td>M1V</td>\n      <td>Scarborough</td>\n      <td>Milliken / Agincourt North / Steeles East / L'...</td>\n      <td>-79.284577</td>\n      <td>3</td>\n    </tr>\n    <tr>\n      <th>15</th>\n      <td>M1W</td>\n      <td>Scarborough</td>\n      <td>Steeles West / L'Amoreaux West</td>\n      <td>-79.318389</td>\n      <td>3</td>\n    </tr>\n    <tr>\n      <th>16</th>\n      <td>M1X</td>\n      <td>Scarborough</td>\n      <td>Upper Rouge</td>\n      <td>-79.205636</td>\n      <td>3</td>\n    </tr>\n  </tbody>\n</table>\n</div>",
                        "text/plain": "   Postal Code      Borough  \\\n0          M1B  Scarborough   \n1          M1C  Scarborough   \n2          M1E  Scarborough   \n3          M1G  Scarborough   \n4          M1H  Scarborough   \n5          M1J  Scarborough   \n6          M1K  Scarborough   \n8          M1M  Scarborough   \n10         M1P  Scarborough   \n11         M1R  Scarborough   \n12         M1S  Scarborough   \n13         M1T  Scarborough   \n14         M1V  Scarborough   \n15         M1W  Scarborough   \n16         M1X  Scarborough   \n\n                                         Neighborhood  Longitude  Clusters  \n0                                     Malvern / Rouge -79.194353         3  \n1            Rouge Hill / Port Union / Highland Creek -79.160497         3  \n2                 Guildwood / Morningside / West Hill -79.188711         3  \n3                                              Woburn -79.216917         3  \n4                                           Cedarbrae -79.239476         3  \n5                                 Scarborough Village -79.239476         3  \n6       Kennedy Park / Ionview / East Birchmount Park -79.262029         3  \n8   Cliffside / Cliffcrest / Scarborough Village West -79.239476         3  \n10  Dorset Park / Wexford Heights / Scarborough To... -79.273304         3  \n11                                 Wexford / Maryvale -79.295849         3  \n12                                          Agincourt -79.262029         3  \n13          Clarks Corners / Tam O'Shanter / Sullivan -79.304302         3  \n14  Milliken / Agincourt North / Steeles East / L'... -79.284577         3  \n15                     Steeles West / L'Amoreaux West -79.318389         3  \n16                                        Upper Rouge -79.205636         3  "
                    },
                    "execution_count": 51,
                    "metadata": {},
                    "output_type": "execute_result"
                }
            ],
            "source": "# Fourth Cluster\ncluster_df.loc[cluster_df['Clusters'] == 3, cluster_df.columns[[0,1,2] + list(range(4, cluster_df.shape[1]))]]"
        }
    ],
    "metadata": {
        "kernelspec": {
            "display_name": "Python 3.6",
            "language": "python",
            "name": "python3"
        },
        "language_info": {
            "codemirror_mode": {
                "name": "ipython",
                "version": 3
            },
            "file_extension": ".py",
            "mimetype": "text/x-python",
            "name": "python",
            "nbconvert_exporter": "python",
            "pygments_lexer": "ipython3",
            "version": "3.6.9"
        }
    },
    "nbformat": 4,
    "nbformat_minor": 1
}