{
    "cells": [
        {
            "cell_type": "markdown",
            "metadata": {},
            "source": "# My Jupyter Notebook on IBM Data Science Experience"
        },
        {
            "cell_type": "markdown",
            "metadata": {},
            "source": "**Torben Castro Borba**  \n\nengineering student"
        },
        {
            "cell_type": "markdown",
            "metadata": {},
            "source": "*I am interested in data science because is a field of constant growth and in the modern world, data is one of the most valuable things.*"
        },
        {
            "cell_type": "markdown",
            "metadata": {},
            "source": "### Calculate Four Times Two"
        },
        {
            "cell_type": "code",
            "execution_count": 9,
            "metadata": {},
            "outputs": [
                {
                    "data": {
                        "text/plain": "8"
                    },
                    "execution_count": 9,
                    "metadata": {},
                    "output_type": "execute_result"
                }
            ],
            "source": "4 * 2"
        },
        {
            "cell_type": "markdown",
            "metadata": {
                "collapsed": true
            },
            "source": "___\n<a> https://github.com/adam-p/markdown-here/wiki/Markdown-Cheatsheet#links</a>\n***\n``` for i in range(10):\n    print(i)\n```\n___"
        }
    ],
    "metadata": {
        "kernelspec": {
            "display_name": "Python 3.6 with Spark",
            "language": "python3",
            "name": "python36"
        },
        "language_info": {
            "codemirror_mode": {
                "name": "ipython",
                "version": 3
            },
            "file_extension": ".py",
            "mimetype": "text/x-python",
            "name": "python",
            "nbconvert_exporter": "python",
            "pygments_lexer": "ipython3",
            "version": "3.6.8"
        }
    },
    "nbformat": 4,
    "nbformat_minor": 1
}