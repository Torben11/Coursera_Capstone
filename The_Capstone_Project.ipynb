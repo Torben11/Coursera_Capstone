{
 "cells": [
  {
   "cell_type": "markdown",
   "metadata": {},
   "source": [
    "# Capstone Project - The Battle of Neighborhoods "
   ]
  },
  {
   "cell_type": "markdown",
   "metadata": {},
   "source": [
    "## Business Understanding"
   ]
  },
  {
   "cell_type": "markdown",
   "metadata": {},
   "source": [
    " <h> <i>\n",
    "Finding the most optimal place to open your business can be pretty hard nowadays and the location of your business could be the differential of failure or success. The objective of this project will consist in finding the best place to open your Pet Shop in Florianopolis,Brazil. Using Foursquare location data to analyze Florianopolis neighborhoods.\n",
    "     <i/> <h/>"
   ]
  },
  {
   "cell_type": "markdown",
   "metadata": {},
   "source": [
    "## Data section"
   ]
  },
  {
   "cell_type": "markdown",
   "metadata": {},
   "source": [
    " <h> <i>\n",
    "This project data will be divided in three parts : \n",
    "<ul>\n",
    "  <li><b >Location Data :</b> Will be mainly used to collect pet shop location data using Foursquare database.</li>\n",
    "  <li><b >Population Data :</b> Will be used to collect Florianopolis neighborhoods population.</li>\n",
    "  <li><b >Neighborhoods Data :</b> Will be used to collect the neighborhoods names and location.</li>\n",
    "</ul>\n",
    "     <i/> <h/>"
   ]
  }
 ],
 "metadata": {
  "kernelspec": {
   "display_name": "Python 3",
   "language": "python",
   "name": "python3"
  },
  "language_info": {
   "codemirror_mode": {
    "name": "ipython",
    "version": 3
   },
   "file_extension": ".py",
   "mimetype": "text/x-python",
   "name": "python",
   "nbconvert_exporter": "python",
   "pygments_lexer": "ipython3",
   "version": "3.7.6"
  }
 },
 "nbformat": 4,
 "nbformat_minor": 4
}
